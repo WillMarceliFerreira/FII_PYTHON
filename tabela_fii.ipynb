{
 "cells": [
  {
   "cell_type": "code",
   "execution_count": 1,
   "id": "bd722fd1",
   "metadata": {},
   "outputs": [],
   "source": [
    "import requests\n",
    "import numpy as np\n",
    "import pandas as pd\n",
    "import re\n",
    "import datetime\n",
    "import yfinance as yf\n",
    "import seaborn as sns\n",
    "import matplotlib.pyplot as plt\n",
    "import ipywidgets as widgets\n",
    "from ipywidgets import interact, interact_manual"
   ]
  },
  {
   "cell_type": "markdown",
   "id": "52a61e27",
   "metadata": {},
   "source": [
    "## Analise de FII (Fundo Imobiliário)"
   ]
  },
  {
   "cell_type": "code",
   "execution_count": 2,
   "id": "3bc22336",
   "metadata": {},
   "outputs": [],
   "source": [
    "def tratar_dados(string):\n",
    "    try:\n",
    "        return re.sub(',', '.', re.sub(r'[R$ %\\.]*', '', string, flags=re.I))\n",
    "    except:\n",
    "        return 0"
   ]
  },
  {
   "cell_type": "code",
   "execution_count": 123,
   "id": "49e5e889",
   "metadata": {},
   "outputs": [],
   "source": [
    "def setores_e_tickers():\n",
    "    url = 'https://www.fundsexplorer.com.br/ranking'\n",
    "    r = requests.get(url)\n",
    "    df = pd.read_html(r.content, encoding='utf-8')[0]\n",
    "    df.fillna(value=0, inplace=True)\n",
    "    setores = df['Setor'].unique().tolist()\n",
    "    del(setores[setores.index(0)])\n",
    "    tickers = df['Códigodo fundo'].unique().tolist()\n",
    "    return setores, tickers"
   ]
  },
  {
   "cell_type": "code",
   "execution_count": 124,
   "id": "45bb6495",
   "metadata": {},
   "outputs": [],
   "source": [
    "def tabela_indicadores(setor):\n",
    "    url = 'https://www.fundsexplorer.com.br/ranking'\n",
    "    r = requests.get(url)\n",
    "    df = pd.read_html(r.content, encoding='utf-8')[0]\n",
    "    df.fillna(value=0, inplace=True)\n",
    "    df_col = df.iloc[:, :2]\n",
    "    df_cat = df.drop(columns=['Códigodo fundo', 'Setor']).select_dtypes(include='object').applymap(tratar_dados)\n",
    "    df_num = df.select_dtypes(include='number')\n",
    "    df = pd.concat([df_col, df_cat, df_num], axis=1)\n",
    "    df['Códigodo fundo'] = df['Códigodo fundo'].apply(lambda x: f\"{x}.SA\")\n",
    "    df.iloc[:, 2:] = df.iloc[:, 2:].astype('float')\n",
    "    df = df[df['Setor'] != 0]\n",
    "    df['P/VPA'] = df['P/VPA'] / 100\n",
    "    indicadores = [\n",
    "        'Códigodo fundo',\n",
    "        'Setor',\n",
    "        'Preço Atual',\n",
    "        'Dividendo',\n",
    "        'DY (3M)Acumulado', \n",
    "        'DY (6M)Acumulado', \n",
    "        'DY (12M)Acumulado',\n",
    "        'P/VPA',\n",
    "        'QuantidadeAtivos',\n",
    "        'Liquidez Diária',\n",
    "        'VacânciaFísica',\n",
    "        'VacânciaFinanceira', \n",
    "                  ]\n",
    "    df = df[indicadores]\n",
    "    return oportunidades(df, setor)"
   ]
  },
  {
   "cell_type": "code",
   "execution_count": 41,
   "id": "d1867f59",
   "metadata": {},
   "outputs": [],
   "source": [
    "def oportunidades(df, setor=['Shoppings']):\n",
    "    try:\n",
    "        df_setor = df[df['Setor'] == setor]\n",
    "        filter_ = \\\n",
    "            (df_setor['Liquidez Diária'] > 20000) &\\\n",
    "            (df_setor['P/VPA'] >= 0.9) &\\\n",
    "            (df_setor['P/VPA'] <= 1.1) &\\\n",
    "            (df_setor['DY (3M)Acumulado'] > df_setor['DY (3M)Acumulado'].mean()) &\\\n",
    "            (df_setor['VacânciaFísica'] <= 20)\n",
    "        return df_setor.loc[filter_].sort_values('DY (3M)Acumulado', ascending=False).reset_index(drop=True)\n",
    "    except Exception as e:\n",
    "        print(e)"
   ]
  },
  {
   "cell_type": "code",
   "execution_count": 42,
   "id": "28ba9e8e",
   "metadata": {},
   "outputs": [],
   "source": [
    "def pegar_fundo(ticker):\n",
    "    end = datetime.datetime.today()\n",
    "    start = datetime.datetime(end.year - 1, 1, 1)\n",
    "    stock = yf.download(ticker, start=start, end=end)\n",
    "    return stock"
   ]
  },
  {
   "cell_type": "code",
   "execution_count": 98,
   "id": "3a63dff9",
   "metadata": {
    "scrolled": true
   },
   "outputs": [],
   "source": [
    "def pegar_12m_fundo(ticker):\n",
    "    try:\n",
    "        url = f'https://fiis.com.br/{ticker}/'\n",
    "        r = requests.get(url)\n",
    "        df = pd.read_html(r.content, encoding='utf-8')[1]\n",
    "        df['DataPagamento'] = pd.to_datetime(df['DataPagamento'], format='%d/%m/%y')\n",
    "        df['DataBase'] = pd.to_datetime(df['DataBase'], format='%d/%m/%y')\n",
    "        df.iloc[:, 2:] = df.iloc[:, 2:].applymap(tratar_dados).astype('float')\n",
    "        df['% change cotação'] = df['CotaçãoBase'].pct_change(periods=-1)\n",
    "        df['% change Rendimento'] = df['Rendimento'].pct_change(periods=-1)\n",
    "        df = df.sort_values('DataPagamento', ascending=True)\n",
    "        df.fillna(0, inplace=True)\n",
    "        return df.reset_index(drop=True)\n",
    "    except:\n",
    "        return \"Ticker não disponível\""
   ]
  },
  {
   "cell_type": "code",
   "execution_count": 127,
   "id": "047edd53",
   "metadata": {},
   "outputs": [],
   "source": [
    "labels = setores_e_tickers()\n",
    "tickers = sorted(labels[1])\n",
    "setores = sorted(labels[0])"
   ]
  },
  {
   "cell_type": "code",
   "execution_count": 130,
   "id": "95b4d967",
   "metadata": {
    "scrolled": true
   },
   "outputs": [
    {
     "data": {
      "application/vnd.jupyter.widget-view+json": {
       "model_id": "0354a89179f2484b8ba1b9da044284e3",
       "version_major": 2,
       "version_minor": 0
      },
      "text/plain": [
       "interactive(children=(Dropdown(description='setor', options=('Hospital', 'Hotel', 'Híbrido', 'Lajes Corporativ…"
      ]
     },
     "metadata": {},
     "output_type": "display_data"
    },
    {
     "data": {
      "text/plain": [
       "<function __main__.tabela_indicadores(setor)>"
      ]
     },
     "execution_count": 130,
     "metadata": {},
     "output_type": "execute_result"
    }
   ],
   "source": [
    "# Ao selecionar o setor, os dados mudarão automaticamente baseado na estratégia definida da função oportunidades.\n",
    "interact(tabela_indicadores, setor=setores)"
   ]
  },
  {
   "cell_type": "code",
   "execution_count": 129,
   "id": "323a96fe",
   "metadata": {},
   "outputs": [
    {
     "data": {
      "application/vnd.jupyter.widget-view+json": {
       "model_id": "e96a86fdb160426e90bbecb129bd4861",
       "version_major": 2,
       "version_minor": 0
      },
      "text/plain": [
       "interactive(children=(Dropdown(description='ticker', options=('ABCP11', 'AFHI11', 'AFOF11', 'AIEC11', 'ALMI11'…"
      ]
     },
     "metadata": {},
     "output_type": "display_data"
    },
    {
     "data": {
      "text/plain": [
       "<function __main__.pegar_12m_fundo(ticker)>"
      ]
     },
     "execution_count": 129,
     "metadata": {},
     "output_type": "execute_result"
    }
   ],
   "source": [
    "# basta selecionar o código do fundo para buscar automaticamente o histórico do ticker.\n",
    "interact(pegar_12m_fundo, ticker=tickers)"
   ]
  }
 ],
 "metadata": {
  "kernelspec": {
   "display_name": "Python 3 (ipykernel)",
   "language": "python",
   "name": "python3"
  },
  "language_info": {
   "codemirror_mode": {
    "name": "ipython",
    "version": 3
   },
   "file_extension": ".py",
   "mimetype": "text/x-python",
   "name": "python",
   "nbconvert_exporter": "python",
   "pygments_lexer": "ipython3",
   "version": "3.9.7"
  }
 },
 "nbformat": 4,
 "nbformat_minor": 5
}
